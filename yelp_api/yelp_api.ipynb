{
 "cells": [
  {
   "cell_type": "code",
   "execution_count": 338,
   "metadata": {},
   "outputs": [
    {
     "name": "stdout",
     "output_type": "stream",
     "text": [
      "Defaulting to user installation because normal site-packages is not writeable\n",
      "Requirement already satisfied: requests in /Users/parvashah/Library/Python/3.9/lib/python/site-packages (2.28.1)\n",
      "Requirement already satisfied: urllib3<1.27,>=1.21.1 in /Users/parvashah/Library/Python/3.9/lib/python/site-packages (from requests) (1.26.13)\n",
      "Requirement already satisfied: idna<4,>=2.5 in /Users/parvashah/Library/Python/3.9/lib/python/site-packages (from requests) (3.4)\n",
      "Requirement already satisfied: certifi>=2017.4.17 in /Users/parvashah/Library/Python/3.9/lib/python/site-packages (from requests) (2022.9.24)\n",
      "Requirement already satisfied: charset-normalizer<3,>=2 in /Users/parvashah/Library/Python/3.9/lib/python/site-packages (from requests) (2.1.1)\n",
      "\u001b[33mWARNING: You are using pip version 21.2.4; however, version 22.3.1 is available.\n",
      "You should consider upgrading via the '/Library/Developer/CommandLineTools/usr/bin/python3 -m pip install --upgrade pip' command.\u001b[0m\n",
      "Defaulting to user installation because normal site-packages is not writeable\n",
      "Requirement already satisfied: pandas in /Users/parvashah/Library/Python/3.9/lib/python/site-packages (1.5.2)\n",
      "Requirement already satisfied: numpy>=1.20.3 in /Users/parvashah/Library/Python/3.9/lib/python/site-packages (from pandas) (1.23.5)\n",
      "Requirement already satisfied: pytz>=2020.1 in /Users/parvashah/Library/Python/3.9/lib/python/site-packages (from pandas) (2022.6)\n",
      "Requirement already satisfied: python-dateutil>=2.8.1 in /Users/parvashah/Library/Python/3.9/lib/python/site-packages (from pandas) (2.8.2)\n",
      "Requirement already satisfied: six>=1.5 in /Library/Developer/CommandLineTools/Library/Frameworks/Python3.framework/Versions/3.9/lib/python3.9/site-packages (from python-dateutil>=2.8.1->pandas) (1.15.0)\n",
      "\u001b[33mWARNING: You are using pip version 21.2.4; however, version 22.3.1 is available.\n",
      "You should consider upgrading via the '/Library/Developer/CommandLineTools/usr/bin/python3 -m pip install --upgrade pip' command.\u001b[0m\n",
      "Defaulting to user installation because normal site-packages is not writeable\n",
      "Requirement already satisfied: SQLAlchemy in /Users/parvashah/Library/Python/3.9/lib/python/site-packages (1.4.44)\n",
      "\u001b[33mWARNING: You are using pip version 21.2.4; however, version 22.3.1 is available.\n",
      "You should consider upgrading via the '/Library/Developer/CommandLineTools/usr/bin/python3 -m pip install --upgrade pip' command.\u001b[0m\n",
      "Defaulting to user installation because normal site-packages is not writeable\n",
      "Requirement already satisfied: mysql-connector-python in /Library/Python/3.9/site-packages (8.0.31)\n",
      "Requirement already satisfied: protobuf<=3.20.1,>=3.11.0 in /Users/parvashah/Library/Python/3.9/lib/python/site-packages (from mysql-connector-python) (3.20.1)\n",
      "\u001b[33mWARNING: You are using pip version 21.2.4; however, version 22.3.1 is available.\n",
      "You should consider upgrading via the '/Library/Developer/CommandLineTools/usr/bin/python3 -m pip install --upgrade pip' command.\u001b[0m\n",
      "Defaulting to user installation because normal site-packages is not writeable\n",
      "Requirement already satisfied: html5lib in /Users/parvashah/Library/Python/3.9/lib/python/site-packages (1.1)\n",
      "Requirement already satisfied: six>=1.9 in /Library/Developer/CommandLineTools/Library/Frameworks/Python3.framework/Versions/3.9/lib/python3.9/site-packages (from html5lib) (1.15.0)\n",
      "Requirement already satisfied: webencodings in /Users/parvashah/Library/Python/3.9/lib/python/site-packages (from html5lib) (0.5.1)\n",
      "\u001b[33mWARNING: You are using pip version 21.2.4; however, version 22.3.1 is available.\n",
      "You should consider upgrading via the '/Library/Developer/CommandLineTools/usr/bin/python3 -m pip install --upgrade pip' command.\u001b[0m\n",
      "Defaulting to user installation because normal site-packages is not writeable\n",
      "Requirement already satisfied: bs4 in /Users/parvashah/Library/Python/3.9/lib/python/site-packages (0.0.1)\n",
      "Requirement already satisfied: beautifulsoup4 in /Users/parvashah/Library/Python/3.9/lib/python/site-packages (from bs4) (4.11.1)\n",
      "Requirement already satisfied: soupsieve>1.2 in /Users/parvashah/Library/Python/3.9/lib/python/site-packages (from beautifulsoup4->bs4) (2.3.2.post1)\n",
      "\u001b[33mWARNING: You are using pip version 21.2.4; however, version 22.3.1 is available.\n",
      "You should consider upgrading via the '/Library/Developer/CommandLineTools/usr/bin/python3 -m pip install --upgrade pip' command.\u001b[0m\n"
     ]
    }
   ],
   "source": [
    "# Installing all libraries and packages \n",
    "!pip3 install requests\n",
    "!pip3 install pandas\n",
    "!pip3 install SQLAlchemy\n",
    "!pip3 install mysql-connector-python\n",
    "!pip3 install html5lib\n",
    "!pip3 install bs4\n",
    "import matplotlib.pyplot as plt\n",
    "import seaborn as sns\n",
    "import numpy as np\n",
    "from datetime import datetime\n",
    "from statistics import mean\n",
    "from bs4 import BeautifulSoup\n",
    "import requests\n",
    "import json\n",
    "from urllib.parse import quote \n",
    "import mysql.connector\n",
    "import sqlalchemy\n",
    "from sqlalchemy.engine import create_engine\n",
    "import pandas as pd"
   ]
  },
  {
   "cell_type": "code",
   "execution_count": 339,
   "metadata": {},
   "outputs": [],
   "source": [
    "\n",
    "# This data is taken from YELP Fusion documentation\n",
    "#Business Search      URL -- 'https://api.yelp.com/v3/businesses/search'\n",
    "#Business Match       URL -- 'https://api.yelp.com/v3/businesses/matches'\n",
    "#Phone Search         URL -- 'https://api.yelp.com/v3/businesses/search/phone'\n",
    "#Business Details     URL -- 'https://api.yelp.com/v3/businesses/{id}'\n",
    "#Business Reviews     URL -- 'https://api.yelp.com/v3/businesses/{id}/reviews'\n",
    "\n",
    "# Define my API Key, My Endpoint, and My Header\n",
    "API_KEY = 'WQXg8c6_o1fwxvnjJZA6Yc45BIYpG2VfeP4St7evIYNuLJnGwH6Z_vDLn7EZ1pOeqCJ8Df6tu-Px_GJTOHQFHLSdVL6pLWc1Wo1jwEVOyDVE46Pq6TtzATqEdbCKY3Yx'\n",
    "ENDPOINT = 'https://api.yelp.com/v3/businesses/search'\n",
    "HEADERS = {'Authorization': 'bearer %s' % API_KEY}\n",
    "\n",
    "# Define my parameters of the search\n",
    "# BUSINESS SEARCH PARAMETERS - EXAMPLE\n",
    "\n",
    "\n",
    "# BUSINESS MATCH PARAMETERS - EXAMPLE\n",
    "#PARAMETERS = {'name': 'Peets Coffee & Tea',\n",
    "#              'address1': '7845 Highland Village Pl',\n",
    "#              'city': 'San Diego',\n",
    "#              'state': 'CA',\n",
    "#              'country': 'US'}\n"
   ]
  },
  {
   "cell_type": "code",
   "execution_count": 390,
   "metadata": {},
   "outputs": [],
   "source": [
    "# Make a request to the Yelp API\n",
    "# API Fusion Limit\n",
    "PARAMETERS = {'radius': 40000,\n",
    "             'location': 'Boston',\n",
    "             'limit': 50\n",
    "             }\n",
    "\n",
    "response = requests.get(url = ENDPOINT,\n",
    "                        params = PARAMETERS,\n",
    "                        headers = HEADERS)\n",
    "# We get a response from the API \n",
    "business_data = response.json()['businesses']\n",
    "b_info = []\n",
    "cat_info = []\n",
    "for b in business_data:\n",
    "    # Append the data need from the json in the list \n",
    "    b_info.append((b['id'], b['name'], b['location']['address1'], b['location']['city'], b['location']['state'], b['location']['zip_code'], b['rating'], b['review_count'] ,not b['is_closed']))\n",
    "    \n",
    "    for i in b['categories']:\n",
    "        cat_info.append((b['id'],i['title']))"
   ]
  },
  {
   "cell_type": "code",
   "execution_count": 393,
   "metadata": {},
   "outputs": [],
   "source": [
    "# Creating business and category dataFrame\n",
    "df_b = pd.DataFrame(b_info, columns =['business_id', 'name', 'address', 'city', 'state', 'postal_code', 'stars', 'review_count','is_open'])\n",
    "df_cat = pd.DataFrame(cat_info, columns =['business_id','categories'])\n"
   ]
  },
  {
   "cell_type": "code",
   "execution_count": 378,
   "metadata": {},
   "outputs": [],
   "source": [
    "# Get list of business_ids from Business Dataframe\n",
    "b_id_list = df_b[\"business_id\"].tolist()\n",
    "# Request 3 latest reviews for the businesses in dataframe\n",
    "review_info = []\n",
    "user_ids = []\n",
    "for l in b_id_list:\n",
    "    response = requests.get(url = 'https://api.yelp.com/v3/businesses/{}/reviews'.format(l), headers = HEADERS)\n",
    "    review_data = response.json()['reviews']\n",
    "    for b in review_data:\n",
    "        user_ids.append((b['user']['id']))\n",
    "        review_info.append((b['id'], b['user']['id'], l, b['rating'],b['text'], b['time_created']))"
   ]
  },
  {
   "cell_type": "code",
   "execution_count": 379,
   "metadata": {},
   "outputs": [],
   "source": [
    "# Web Scrapping user information using beautiful soup\n",
    "user_info = []\n",
    "for i in user_ids:\n",
    "    URL = 'https://www.yelp.com/user_details?userid={}'.format(str(i))\n",
    "    r = requests.get(URL)\n",
    "    soup = BeautifulSoup(r.content, 'html5lib') # If this line causes an error, run 'pip install html5lib' or install html5lib\n",
    "    u_name = soup.find('div', class_=\"user-profile_info arrange_unit\").find(\"h1\", recursive=False).text\n",
    "    u_review_count = soup.find('li', class_=\"review-count\").find(\"strong\", recursive=False).text\n",
    "    #convert date into proper datetime format\n",
    "    t_yelp_since = soup.find('div', class_=\"user-details-overview_sidebar\").find_all(\"p\")[1].text\n",
    "    u_yelp_since = datetime.strptime(\"1 {}\".format(t_yelp_since), '%d %B %Y').strftime('%Y-%m-%d')\n",
    "    #since avg stars isn't specifically given we approximate this info by taking avg of rating of fist page\n",
    "    u_star=[]\n",
    "    u_a_list = soup.find_all('div', \"i-stars\")\n",
    "    for u in u_a_list:\n",
    "        u_star.append(float(u[\"title\"][0:3]))\n",
    "    # This information is not directly given on the web page so we approximate this information \n",
    "    u_avg_stars = round(sum(u_star)/len(u_star),2)\n",
    "    user_info.append((i,u_name,u_review_count,u_yelp_since,u_avg_stars))\n",
    "    \n"
   ]
  },
  {
   "cell_type": "code",
   "execution_count": 380,
   "metadata": {},
   "outputs": [],
   "source": [
    "# Creating User and Review Dataframe\n",
    "df_user = pd.DataFrame(user_info,columns=['user_id', 'name', 'review_count', 'yelping_since', 'average_stars'])\n",
    "df_review = pd.DataFrame(review_info, columns =['review_id','user_id','business_id','stars','text', 'time'])"
   ]
  },
  {
   "cell_type": "code",
   "execution_count": 381,
   "metadata": {},
   "outputs": [
    {
     "data": {
      "text/html": [
       "<div>\n",
       "<style scoped>\n",
       "    .dataframe tbody tr th:only-of-type {\n",
       "        vertical-align: middle;\n",
       "    }\n",
       "\n",
       "    .dataframe tbody tr th {\n",
       "        vertical-align: top;\n",
       "    }\n",
       "\n",
       "    .dataframe thead th {\n",
       "        text-align: right;\n",
       "    }\n",
       "</style>\n",
       "<table border=\"1\" class=\"dataframe\">\n",
       "  <thead>\n",
       "    <tr style=\"text-align: right;\">\n",
       "      <th></th>\n",
       "      <th>business_id</th>\n",
       "      <th>name</th>\n",
       "      <th>address</th>\n",
       "      <th>city</th>\n",
       "      <th>state</th>\n",
       "      <th>postal_code</th>\n",
       "      <th>stars</th>\n",
       "      <th>review_count</th>\n",
       "      <th>is_open</th>\n",
       "    </tr>\n",
       "  </thead>\n",
       "  <tbody>\n",
       "    <tr>\n",
       "      <th>45</th>\n",
       "      <td>IB2u25TrT22WMwtqTXVmeQ</td>\n",
       "      <td>J Pace &amp; Son</td>\n",
       "      <td>1 Park Ln</td>\n",
       "      <td>Boston</td>\n",
       "      <td>MA</td>\n",
       "      <td>02210</td>\n",
       "      <td>4.0</td>\n",
       "      <td>167</td>\n",
       "      <td>True</td>\n",
       "    </tr>\n",
       "    <tr>\n",
       "      <th>46</th>\n",
       "      <td>-uPcDd5ulyWh4iZm--LY-Q</td>\n",
       "      <td>Peach Farm</td>\n",
       "      <td>4 Tyler St</td>\n",
       "      <td>Boston</td>\n",
       "      <td>MA</td>\n",
       "      <td>02111</td>\n",
       "      <td>3.0</td>\n",
       "      <td>599</td>\n",
       "      <td>True</td>\n",
       "    </tr>\n",
       "    <tr>\n",
       "      <th>47</th>\n",
       "      <td>HuQ8YB5eOppEJf3muw_1aQ</td>\n",
       "      <td>Bagelsaurus</td>\n",
       "      <td>1796 Massachusetts Ave</td>\n",
       "      <td>Cambridge</td>\n",
       "      <td>MA</td>\n",
       "      <td>02140</td>\n",
       "      <td>4.0</td>\n",
       "      <td>740</td>\n",
       "      <td>True</td>\n",
       "    </tr>\n",
       "    <tr>\n",
       "      <th>48</th>\n",
       "      <td>IvvgLWS3J6qR4dhYMlDOPA</td>\n",
       "      <td>Tavern In The Square</td>\n",
       "      <td>120 Beverly St</td>\n",
       "      <td>Boston</td>\n",
       "      <td>MA</td>\n",
       "      <td>02114</td>\n",
       "      <td>3.5</td>\n",
       "      <td>347</td>\n",
       "      <td>True</td>\n",
       "    </tr>\n",
       "    <tr>\n",
       "      <th>49</th>\n",
       "      <td>VEmNgxY90VOc5HNprOiXlw</td>\n",
       "      <td>Eddie V's Prime Seafood</td>\n",
       "      <td>122 Belvidere St</td>\n",
       "      <td>Boston</td>\n",
       "      <td>MA</td>\n",
       "      <td>02199</td>\n",
       "      <td>4.0</td>\n",
       "      <td>180</td>\n",
       "      <td>True</td>\n",
       "    </tr>\n",
       "  </tbody>\n",
       "</table>\n",
       "</div>"
      ],
      "text/plain": [
       "               business_id                     name                 address  \\\n",
       "45  IB2u25TrT22WMwtqTXVmeQ             J Pace & Son               1 Park Ln   \n",
       "46  -uPcDd5ulyWh4iZm--LY-Q               Peach Farm              4 Tyler St   \n",
       "47  HuQ8YB5eOppEJf3muw_1aQ              Bagelsaurus  1796 Massachusetts Ave   \n",
       "48  IvvgLWS3J6qR4dhYMlDOPA     Tavern In The Square          120 Beverly St   \n",
       "49  VEmNgxY90VOc5HNprOiXlw  Eddie V's Prime Seafood        122 Belvidere St   \n",
       "\n",
       "         city state postal_code  stars  review_count  is_open  \n",
       "45     Boston    MA       02210    4.0           167     True  \n",
       "46     Boston    MA       02111    3.0           599     True  \n",
       "47  Cambridge    MA       02140    4.0           740     True  \n",
       "48     Boston    MA       02114    3.5           347     True  \n",
       "49     Boston    MA       02199    4.0           180     True  "
      ]
     },
     "execution_count": 381,
     "metadata": {},
     "output_type": "execute_result"
    }
   ],
   "source": [
    "# exploratory Data analysis df_b\n",
    "df_b.tail()"
   ]
  },
  {
   "cell_type": "code",
   "execution_count": 384,
   "metadata": {},
   "outputs": [
    {
     "name": "stdout",
     "output_type": "stream",
     "text": [
      "<class 'pandas.core.frame.DataFrame'>\n",
      "RangeIndex: 50 entries, 0 to 49\n",
      "Data columns (total 9 columns):\n",
      " #   Column        Non-Null Count  Dtype  \n",
      "---  ------        --------------  -----  \n",
      " 0   business_id   50 non-null     object \n",
      " 1   name          50 non-null     object \n",
      " 2   address       50 non-null     object \n",
      " 3   city          50 non-null     object \n",
      " 4   state         50 non-null     object \n",
      " 5   postal_code   50 non-null     object \n",
      " 6   stars         50 non-null     float64\n",
      " 7   review_count  50 non-null     int64  \n",
      " 8   is_open       50 non-null     bool   \n",
      "dtypes: bool(1), float64(1), int64(1), object(6)\n",
      "memory usage: 3.3+ KB\n"
     ]
    }
   ],
   "source": [
    "#check rows n columns\n",
    "df_b.info()"
   ]
  },
  {
   "cell_type": "code",
   "execution_count": 385,
   "metadata": {},
   "outputs": [
    {
     "data": {
      "text/html": [
       "<div>\n",
       "<style scoped>\n",
       "    .dataframe tbody tr th:only-of-type {\n",
       "        vertical-align: middle;\n",
       "    }\n",
       "\n",
       "    .dataframe tbody tr th {\n",
       "        vertical-align: top;\n",
       "    }\n",
       "\n",
       "    .dataframe thead th {\n",
       "        text-align: right;\n",
       "    }\n",
       "</style>\n",
       "<table border=\"1\" class=\"dataframe\">\n",
       "  <thead>\n",
       "    <tr style=\"text-align: right;\">\n",
       "      <th></th>\n",
       "      <th>stars</th>\n",
       "      <th>review_count</th>\n",
       "    </tr>\n",
       "  </thead>\n",
       "  <tbody>\n",
       "    <tr>\n",
       "      <th>count</th>\n",
       "      <td>50.00000</td>\n",
       "      <td>50.000000</td>\n",
       "    </tr>\n",
       "    <tr>\n",
       "      <th>mean</th>\n",
       "      <td>3.94000</td>\n",
       "      <td>410.860000</td>\n",
       "    </tr>\n",
       "    <tr>\n",
       "      <th>std</th>\n",
       "      <td>0.44767</td>\n",
       "      <td>264.362075</td>\n",
       "    </tr>\n",
       "    <tr>\n",
       "      <th>min</th>\n",
       "      <td>3.00000</td>\n",
       "      <td>67.000000</td>\n",
       "    </tr>\n",
       "    <tr>\n",
       "      <th>25%</th>\n",
       "      <td>3.50000</td>\n",
       "      <td>180.500000</td>\n",
       "    </tr>\n",
       "    <tr>\n",
       "      <th>50%</th>\n",
       "      <td>4.00000</td>\n",
       "      <td>377.500000</td>\n",
       "    </tr>\n",
       "    <tr>\n",
       "      <th>75%</th>\n",
       "      <td>4.37500</td>\n",
       "      <td>550.250000</td>\n",
       "    </tr>\n",
       "    <tr>\n",
       "      <th>max</th>\n",
       "      <td>5.00000</td>\n",
       "      <td>1249.000000</td>\n",
       "    </tr>\n",
       "  </tbody>\n",
       "</table>\n",
       "</div>"
      ],
      "text/plain": [
       "          stars  review_count\n",
       "count  50.00000     50.000000\n",
       "mean    3.94000    410.860000\n",
       "std     0.44767    264.362075\n",
       "min     3.00000     67.000000\n",
       "25%     3.50000    180.500000\n",
       "50%     4.00000    377.500000\n",
       "75%     4.37500    550.250000\n",
       "max     5.00000   1249.000000"
      ]
     },
     "execution_count": 385,
     "metadata": {},
     "output_type": "execute_result"
    }
   ],
   "source": [
    "#show integer objects\n",
    "df_b.describe()"
   ]
  },
  {
   "cell_type": "code",
   "execution_count": 386,
   "metadata": {},
   "outputs": [
    {
     "data": {
      "text/plain": [
       "business_id     50\n",
       "name            50\n",
       "address         50\n",
       "city             6\n",
       "state            1\n",
       "postal_code     24\n",
       "stars            5\n",
       "review_count    49\n",
       "is_open          1\n",
       "dtype: int64"
      ]
     },
     "execution_count": 386,
     "metadata": {},
     "output_type": "execute_result"
    }
   ],
   "source": [
    "# Show unique values of ech column\n",
    "df_b.nunique()"
   ]
  },
  {
   "cell_type": "code",
   "execution_count": 350,
   "metadata": {},
   "outputs": [
    {
     "data": {
      "text/plain": [
       "array(['Boston', 'Back Bay', 'Cambridge'], dtype=object)"
      ]
     },
     "execution_count": 350,
     "metadata": {},
     "output_type": "execute_result"
    }
   ],
   "source": [
    "# show unique value in a specific column\n",
    "df_b['city'].unique()"
   ]
  },
  {
   "cell_type": "code",
   "execution_count": 351,
   "metadata": {},
   "outputs": [
    {
     "data": {
      "text/plain": [
       "business_id     0\n",
       "name            0\n",
       "address         0\n",
       "city            0\n",
       "state           0\n",
       "postal_code     0\n",
       "stars           0\n",
       "review_count    0\n",
       "is_open         0\n",
       "dtype: int64"
      ]
     },
     "execution_count": 351,
     "metadata": {},
     "output_type": "execute_result"
    }
   ],
   "source": [
    "#check if amy column has any null value\n",
    "df_b.isnull().sum()"
   ]
  },
  {
   "cell_type": "code",
   "execution_count": 352,
   "metadata": {},
   "outputs": [
    {
     "data": {
      "text/html": [
       "<div>\n",
       "<style scoped>\n",
       "    .dataframe tbody tr th:only-of-type {\n",
       "        vertical-align: middle;\n",
       "    }\n",
       "\n",
       "    .dataframe tbody tr th {\n",
       "        vertical-align: top;\n",
       "    }\n",
       "\n",
       "    .dataframe thead th {\n",
       "        text-align: right;\n",
       "    }\n",
       "</style>\n",
       "<table border=\"1\" class=\"dataframe\">\n",
       "  <thead>\n",
       "    <tr style=\"text-align: right;\">\n",
       "      <th></th>\n",
       "      <th>review_id</th>\n",
       "      <th>user_id</th>\n",
       "      <th>business_id</th>\n",
       "      <th>stars</th>\n",
       "      <th>text</th>\n",
       "      <th>time</th>\n",
       "    </tr>\n",
       "  </thead>\n",
       "  <tbody>\n",
       "    <tr>\n",
       "      <th>0</th>\n",
       "      <td>w1hyW-z5IsZekm0EXASE-g</td>\n",
       "      <td>jMHwo8IJj5t0itk4t1-aDA</td>\n",
       "      <td>PrsvO1rzkgg6qFizlAoEtg</td>\n",
       "      <td>5</td>\n",
       "      <td>This place is so good! Loved the cannolis (I h...</td>\n",
       "      <td>2022-11-04 18:34:44</td>\n",
       "    </tr>\n",
       "    <tr>\n",
       "      <th>1</th>\n",
       "      <td>fniOHMvOrQYPcAZHwCmK_Q</td>\n",
       "      <td>VQPRf2JB7H7utuht_blpmQ</td>\n",
       "      <td>PrsvO1rzkgg6qFizlAoEtg</td>\n",
       "      <td>5</td>\n",
       "      <td>Delicious cannolis in all of Boston!! Line is ...</td>\n",
       "      <td>2022-10-27 17:43:35</td>\n",
       "    </tr>\n",
       "    <tr>\n",
       "      <th>2</th>\n",
       "      <td>smfeXRjoOBR1eEpraJ3Row</td>\n",
       "      <td>zmQ3AoLiS7V4rvTWOY1WFQ</td>\n",
       "      <td>PrsvO1rzkgg6qFizlAoEtg</td>\n",
       "      <td>5</td>\n",
       "      <td>CASH ONLY!\\n\\nI don't even like cannolis but h...</td>\n",
       "      <td>2022-12-05 20:19:06</td>\n",
       "    </tr>\n",
       "    <tr>\n",
       "      <th>3</th>\n",
       "      <td>rbsUdlPbyC2_S8qx3TANlg</td>\n",
       "      <td>QhcMla0xSErS5IvDHPZSiw</td>\n",
       "      <td>y2w6rFaO0XEiG5mFfOsiFA</td>\n",
       "      <td>5</td>\n",
       "      <td>One of the only restaurants that doesn't have ...</td>\n",
       "      <td>2022-11-20 05:11:18</td>\n",
       "    </tr>\n",
       "    <tr>\n",
       "      <th>4</th>\n",
       "      <td>vfrKJ0EutnQC52CsB-khIw</td>\n",
       "      <td>rs0Gd0dat8jQ4sr1Bw3gmg</td>\n",
       "      <td>y2w6rFaO0XEiG5mFfOsiFA</td>\n",
       "      <td>4</td>\n",
       "      <td>Before going to a game that night, we dropped ...</td>\n",
       "      <td>2022-11-24 07:28:49</td>\n",
       "    </tr>\n",
       "  </tbody>\n",
       "</table>\n",
       "</div>"
      ],
      "text/plain": [
       "                review_id                 user_id             business_id  \\\n",
       "0  w1hyW-z5IsZekm0EXASE-g  jMHwo8IJj5t0itk4t1-aDA  PrsvO1rzkgg6qFizlAoEtg   \n",
       "1  fniOHMvOrQYPcAZHwCmK_Q  VQPRf2JB7H7utuht_blpmQ  PrsvO1rzkgg6qFizlAoEtg   \n",
       "2  smfeXRjoOBR1eEpraJ3Row  zmQ3AoLiS7V4rvTWOY1WFQ  PrsvO1rzkgg6qFizlAoEtg   \n",
       "3  rbsUdlPbyC2_S8qx3TANlg  QhcMla0xSErS5IvDHPZSiw  y2w6rFaO0XEiG5mFfOsiFA   \n",
       "4  vfrKJ0EutnQC52CsB-khIw  rs0Gd0dat8jQ4sr1Bw3gmg  y2w6rFaO0XEiG5mFfOsiFA   \n",
       "\n",
       "   stars                                               text  \\\n",
       "0      5  This place is so good! Loved the cannolis (I h...   \n",
       "1      5  Delicious cannolis in all of Boston!! Line is ...   \n",
       "2      5  CASH ONLY!\\n\\nI don't even like cannolis but h...   \n",
       "3      5  One of the only restaurants that doesn't have ...   \n",
       "4      4  Before going to a game that night, we dropped ...   \n",
       "\n",
       "                  time  \n",
       "0  2022-11-04 18:34:44  \n",
       "1  2022-10-27 17:43:35  \n",
       "2  2022-12-05 20:19:06  \n",
       "3  2022-11-20 05:11:18  \n",
       "4  2022-11-24 07:28:49  "
      ]
     },
     "execution_count": 352,
     "metadata": {},
     "output_type": "execute_result"
    }
   ],
   "source": [
    "#df_review check columns\n",
    "df_review.head()"
   ]
  },
  {
   "cell_type": "code",
   "execution_count": 353,
   "metadata": {},
   "outputs": [
    {
     "data": {
      "text/plain": [
       "(150, 6)"
      ]
     },
     "execution_count": 353,
     "metadata": {},
     "output_type": "execute_result"
    }
   ],
   "source": [
    "df_review.shape"
   ]
  },
  {
   "cell_type": "code",
   "execution_count": 354,
   "metadata": {},
   "outputs": [
    {
     "name": "stdout",
     "output_type": "stream",
     "text": [
      "<class 'pandas.core.frame.DataFrame'>\n",
      "RangeIndex: 150 entries, 0 to 149\n",
      "Data columns (total 6 columns):\n",
      " #   Column       Non-Null Count  Dtype \n",
      "---  ------       --------------  ----- \n",
      " 0   review_id    150 non-null    object\n",
      " 1   user_id      150 non-null    object\n",
      " 2   business_id  150 non-null    object\n",
      " 3   stars        150 non-null    int64 \n",
      " 4   text         150 non-null    object\n",
      " 5   time         150 non-null    object\n",
      "dtypes: int64(1), object(5)\n",
      "memory usage: 7.2+ KB\n"
     ]
    }
   ],
   "source": [
    "df_review.info()"
   ]
  },
  {
   "cell_type": "code",
   "execution_count": 355,
   "metadata": {},
   "outputs": [
    {
     "data": {
      "text/plain": [
       "review_id      150\n",
       "user_id        140\n",
       "business_id     50\n",
       "stars            5\n",
       "text           150\n",
       "time           150\n",
       "dtype: int64"
      ]
     },
     "execution_count": 355,
     "metadata": {},
     "output_type": "execute_result"
    }
   ],
   "source": [
    "df_review.nunique()\n"
   ]
  },
  {
   "cell_type": "code",
   "execution_count": 356,
   "metadata": {},
   "outputs": [
    {
     "data": {
      "text/plain": [
       "review_id      0\n",
       "user_id        0\n",
       "business_id    0\n",
       "stars          0\n",
       "text           0\n",
       "time           0\n",
       "dtype: int64"
      ]
     },
     "execution_count": 356,
     "metadata": {},
     "output_type": "execute_result"
    }
   ],
   "source": [
    "#check if amy column has any null value\n",
    "df_review.isnull().sum()"
   ]
  },
  {
   "cell_type": "code",
   "execution_count": 357,
   "metadata": {},
   "outputs": [
    {
     "data": {
      "text/html": [
       "<div>\n",
       "<style scoped>\n",
       "    .dataframe tbody tr th:only-of-type {\n",
       "        vertical-align: middle;\n",
       "    }\n",
       "\n",
       "    .dataframe tbody tr th {\n",
       "        vertical-align: top;\n",
       "    }\n",
       "\n",
       "    .dataframe thead th {\n",
       "        text-align: right;\n",
       "    }\n",
       "</style>\n",
       "<table border=\"1\" class=\"dataframe\">\n",
       "  <thead>\n",
       "    <tr style=\"text-align: right;\">\n",
       "      <th></th>\n",
       "      <th>user_id</th>\n",
       "      <th>name</th>\n",
       "      <th>review_count</th>\n",
       "      <th>yelping_since</th>\n",
       "      <th>average_stars</th>\n",
       "    </tr>\n",
       "  </thead>\n",
       "  <tbody>\n",
       "    <tr>\n",
       "      <th>0</th>\n",
       "      <td>jMHwo8IJj5t0itk4t1-aDA</td>\n",
       "      <td>Samantha M.</td>\n",
       "      <td>1</td>\n",
       "      <td>2018-06-01</td>\n",
       "      <td>5.00</td>\n",
       "    </tr>\n",
       "    <tr>\n",
       "      <th>1</th>\n",
       "      <td>VQPRf2JB7H7utuht_blpmQ</td>\n",
       "      <td>Karina O.</td>\n",
       "      <td>1</td>\n",
       "      <td>2014-04-01</td>\n",
       "      <td>5.00</td>\n",
       "    </tr>\n",
       "    <tr>\n",
       "      <th>2</th>\n",
       "      <td>zmQ3AoLiS7V4rvTWOY1WFQ</td>\n",
       "      <td>Lindsey C.</td>\n",
       "      <td>54</td>\n",
       "      <td>2014-04-01</td>\n",
       "      <td>4.36</td>\n",
       "    </tr>\n",
       "    <tr>\n",
       "      <th>3</th>\n",
       "      <td>QhcMla0xSErS5IvDHPZSiw</td>\n",
       "      <td>Nadia V.</td>\n",
       "      <td>159</td>\n",
       "      <td>2009-11-01</td>\n",
       "      <td>4.67</td>\n",
       "    </tr>\n",
       "    <tr>\n",
       "      <th>4</th>\n",
       "      <td>rs0Gd0dat8jQ4sr1Bw3gmg</td>\n",
       "      <td>Amy L.</td>\n",
       "      <td>14</td>\n",
       "      <td>2014-07-01</td>\n",
       "      <td>4.30</td>\n",
       "    </tr>\n",
       "  </tbody>\n",
       "</table>\n",
       "</div>"
      ],
      "text/plain": [
       "                  user_id         name review_count yelping_since  \\\n",
       "0  jMHwo8IJj5t0itk4t1-aDA  Samantha M.            1    2018-06-01   \n",
       "1  VQPRf2JB7H7utuht_blpmQ    Karina O.            1    2014-04-01   \n",
       "2  zmQ3AoLiS7V4rvTWOY1WFQ   Lindsey C.           54    2014-04-01   \n",
       "3  QhcMla0xSErS5IvDHPZSiw     Nadia V.          159    2009-11-01   \n",
       "4  rs0Gd0dat8jQ4sr1Bw3gmg       Amy L.           14    2014-07-01   \n",
       "\n",
       "   average_stars  \n",
       "0           5.00  \n",
       "1           5.00  \n",
       "2           4.36  \n",
       "3           4.67  \n",
       "4           4.30  "
      ]
     },
     "execution_count": 357,
     "metadata": {},
     "output_type": "execute_result"
    }
   ],
   "source": [
    "#df_user analysis\n",
    "df_user.head()"
   ]
  },
  {
   "cell_type": "code",
   "execution_count": 358,
   "metadata": {},
   "outputs": [
    {
     "data": {
      "text/plain": [
       "(150, 5)"
      ]
     },
     "execution_count": 358,
     "metadata": {},
     "output_type": "execute_result"
    }
   ],
   "source": [
    "df_user.shape"
   ]
  },
  {
   "cell_type": "code",
   "execution_count": 359,
   "metadata": {},
   "outputs": [
    {
     "name": "stdout",
     "output_type": "stream",
     "text": [
      "<class 'pandas.core.frame.DataFrame'>\n",
      "RangeIndex: 150 entries, 0 to 149\n",
      "Data columns (total 5 columns):\n",
      " #   Column         Non-Null Count  Dtype  \n",
      "---  ------         --------------  -----  \n",
      " 0   user_id        150 non-null    object \n",
      " 1   name           150 non-null    object \n",
      " 2   review_count   150 non-null    object \n",
      " 3   yelping_since  150 non-null    object \n",
      " 4   average_stars  150 non-null    float64\n",
      "dtypes: float64(1), object(4)\n",
      "memory usage: 6.0+ KB\n"
     ]
    }
   ],
   "source": [
    "df_user.info()"
   ]
  },
  {
   "cell_type": "code",
   "execution_count": 360,
   "metadata": {},
   "outputs": [
    {
     "data": {
      "text/plain": [
       "user_id          140\n",
       "name             140\n",
       "review_count      96\n",
       "yelping_since     91\n",
       "average_stars     43\n",
       "dtype: int64"
      ]
     },
     "execution_count": 360,
     "metadata": {},
     "output_type": "execute_result"
    }
   ],
   "source": [
    "df_user.nunique()\n"
   ]
  },
  {
   "cell_type": "code",
   "execution_count": 361,
   "metadata": {},
   "outputs": [
    {
     "data": {
      "text/html": [
       "<div>\n",
       "<style scoped>\n",
       "    .dataframe tbody tr th:only-of-type {\n",
       "        vertical-align: middle;\n",
       "    }\n",
       "\n",
       "    .dataframe tbody tr th {\n",
       "        vertical-align: top;\n",
       "    }\n",
       "\n",
       "    .dataframe thead th {\n",
       "        text-align: right;\n",
       "    }\n",
       "</style>\n",
       "<table border=\"1\" class=\"dataframe\">\n",
       "  <thead>\n",
       "    <tr style=\"text-align: right;\">\n",
       "      <th></th>\n",
       "      <th>user_id</th>\n",
       "      <th>name</th>\n",
       "      <th>review_count</th>\n",
       "      <th>yelping_since</th>\n",
       "      <th>average_stars</th>\n",
       "    </tr>\n",
       "  </thead>\n",
       "  <tbody>\n",
       "    <tr>\n",
       "      <th>0</th>\n",
       "      <td>jMHwo8IJj5t0itk4t1-aDA</td>\n",
       "      <td>Samantha M.</td>\n",
       "      <td>1</td>\n",
       "      <td>2018-06-01</td>\n",
       "      <td>5.00</td>\n",
       "    </tr>\n",
       "    <tr>\n",
       "      <th>1</th>\n",
       "      <td>VQPRf2JB7H7utuht_blpmQ</td>\n",
       "      <td>Karina O.</td>\n",
       "      <td>1</td>\n",
       "      <td>2014-04-01</td>\n",
       "      <td>5.00</td>\n",
       "    </tr>\n",
       "    <tr>\n",
       "      <th>2</th>\n",
       "      <td>zmQ3AoLiS7V4rvTWOY1WFQ</td>\n",
       "      <td>Lindsey C.</td>\n",
       "      <td>54</td>\n",
       "      <td>2014-04-01</td>\n",
       "      <td>4.36</td>\n",
       "    </tr>\n",
       "    <tr>\n",
       "      <th>3</th>\n",
       "      <td>QhcMla0xSErS5IvDHPZSiw</td>\n",
       "      <td>Nadia V.</td>\n",
       "      <td>159</td>\n",
       "      <td>2009-11-01</td>\n",
       "      <td>4.67</td>\n",
       "    </tr>\n",
       "    <tr>\n",
       "      <th>4</th>\n",
       "      <td>rs0Gd0dat8jQ4sr1Bw3gmg</td>\n",
       "      <td>Amy L.</td>\n",
       "      <td>14</td>\n",
       "      <td>2014-07-01</td>\n",
       "      <td>4.30</td>\n",
       "    </tr>\n",
       "    <tr>\n",
       "      <th>...</th>\n",
       "      <td>...</td>\n",
       "      <td>...</td>\n",
       "      <td>...</td>\n",
       "      <td>...</td>\n",
       "      <td>...</td>\n",
       "    </tr>\n",
       "    <tr>\n",
       "      <th>142</th>\n",
       "      <td>IdcVevojNn9CHnFI2ecTNg</td>\n",
       "      <td>Brazz R.</td>\n",
       "      <td>7</td>\n",
       "      <td>2022-06-01</td>\n",
       "      <td>4.29</td>\n",
       "    </tr>\n",
       "    <tr>\n",
       "      <th>144</th>\n",
       "      <td>9N9FvlhZmUkCNKMITUS8JQ</td>\n",
       "      <td>Michelle H.</td>\n",
       "      <td>1</td>\n",
       "      <td>2022-11-01</td>\n",
       "      <td>5.00</td>\n",
       "    </tr>\n",
       "    <tr>\n",
       "      <th>145</th>\n",
       "      <td>u-TRnZWm1TkJF8BesX6MlQ</td>\n",
       "      <td>Roland Beau P.</td>\n",
       "      <td>22</td>\n",
       "      <td>2012-06-01</td>\n",
       "      <td>3.90</td>\n",
       "    </tr>\n",
       "    <tr>\n",
       "      <th>148</th>\n",
       "      <td>CvHVh4JAVWMW_R2ClWMc6A</td>\n",
       "      <td>Julia Y.</td>\n",
       "      <td>96</td>\n",
       "      <td>2013-09-01</td>\n",
       "      <td>4.18</td>\n",
       "    </tr>\n",
       "    <tr>\n",
       "      <th>149</th>\n",
       "      <td>D5d71Tj6grKI5E5YBW3qIQ</td>\n",
       "      <td>Stacey H.</td>\n",
       "      <td>174</td>\n",
       "      <td>2018-07-01</td>\n",
       "      <td>4.40</td>\n",
       "    </tr>\n",
       "  </tbody>\n",
       "</table>\n",
       "<p>140 rows × 5 columns</p>\n",
       "</div>"
      ],
      "text/plain": [
       "                    user_id            name review_count yelping_since  \\\n",
       "0    jMHwo8IJj5t0itk4t1-aDA     Samantha M.            1    2018-06-01   \n",
       "1    VQPRf2JB7H7utuht_blpmQ       Karina O.            1    2014-04-01   \n",
       "2    zmQ3AoLiS7V4rvTWOY1WFQ      Lindsey C.           54    2014-04-01   \n",
       "3    QhcMla0xSErS5IvDHPZSiw        Nadia V.          159    2009-11-01   \n",
       "4    rs0Gd0dat8jQ4sr1Bw3gmg          Amy L.           14    2014-07-01   \n",
       "..                      ...             ...          ...           ...   \n",
       "142  IdcVevojNn9CHnFI2ecTNg        Brazz R.            7    2022-06-01   \n",
       "144  9N9FvlhZmUkCNKMITUS8JQ     Michelle H.            1    2022-11-01   \n",
       "145  u-TRnZWm1TkJF8BesX6MlQ  Roland Beau P.           22    2012-06-01   \n",
       "148  CvHVh4JAVWMW_R2ClWMc6A        Julia Y.           96    2013-09-01   \n",
       "149  D5d71Tj6grKI5E5YBW3qIQ       Stacey H.          174    2018-07-01   \n",
       "\n",
       "     average_stars  \n",
       "0             5.00  \n",
       "1             5.00  \n",
       "2             4.36  \n",
       "3             4.67  \n",
       "4             4.30  \n",
       "..             ...  \n",
       "142           4.29  \n",
       "144           5.00  \n",
       "145           3.90  \n",
       "148           4.18  \n",
       "149           4.40  \n",
       "\n",
       "[140 rows x 5 columns]"
      ]
     },
     "execution_count": 361,
     "metadata": {},
     "output_type": "execute_result"
    }
   ],
   "source": [
    "# 150 rows, 142 unique rows so 3 duplicate values, user_id is the primary key so we need to remove the duplicates\n",
    "df_user.drop_duplicates()"
   ]
  },
  {
   "cell_type": "code",
   "execution_count": 362,
   "metadata": {},
   "outputs": [
    {
     "data": {
      "text/html": [
       "<div>\n",
       "<style scoped>\n",
       "    .dataframe tbody tr th:only-of-type {\n",
       "        vertical-align: middle;\n",
       "    }\n",
       "\n",
       "    .dataframe tbody tr th {\n",
       "        vertical-align: top;\n",
       "    }\n",
       "\n",
       "    .dataframe thead th {\n",
       "        text-align: right;\n",
       "    }\n",
       "</style>\n",
       "<table border=\"1\" class=\"dataframe\">\n",
       "  <thead>\n",
       "    <tr style=\"text-align: right;\">\n",
       "      <th></th>\n",
       "      <th>business_id</th>\n",
       "      <th>categories</th>\n",
       "    </tr>\n",
       "  </thead>\n",
       "  <tbody>\n",
       "    <tr>\n",
       "      <th>0</th>\n",
       "      <td>PrsvO1rzkgg6qFizlAoEtg</td>\n",
       "      <td>Bakeries</td>\n",
       "    </tr>\n",
       "    <tr>\n",
       "      <th>1</th>\n",
       "      <td>PrsvO1rzkgg6qFizlAoEtg</td>\n",
       "      <td>Desserts</td>\n",
       "    </tr>\n",
       "    <tr>\n",
       "      <th>2</th>\n",
       "      <td>PrsvO1rzkgg6qFizlAoEtg</td>\n",
       "      <td>Gelato</td>\n",
       "    </tr>\n",
       "    <tr>\n",
       "      <th>3</th>\n",
       "      <td>y2w6rFaO0XEiG5mFfOsiFA</td>\n",
       "      <td>Seafood</td>\n",
       "    </tr>\n",
       "    <tr>\n",
       "      <th>4</th>\n",
       "      <td>y2w6rFaO0XEiG5mFfOsiFA</td>\n",
       "      <td>Salad</td>\n",
       "    </tr>\n",
       "  </tbody>\n",
       "</table>\n",
       "</div>"
      ],
      "text/plain": [
       "              business_id categories\n",
       "0  PrsvO1rzkgg6qFizlAoEtg   Bakeries\n",
       "1  PrsvO1rzkgg6qFizlAoEtg   Desserts\n",
       "2  PrsvO1rzkgg6qFizlAoEtg     Gelato\n",
       "3  y2w6rFaO0XEiG5mFfOsiFA    Seafood\n",
       "4  y2w6rFaO0XEiG5mFfOsiFA      Salad"
      ]
     },
     "execution_count": 362,
     "metadata": {},
     "output_type": "execute_result"
    }
   ],
   "source": [
    "df_cat.head()"
   ]
  },
  {
   "cell_type": "code",
   "execution_count": 363,
   "metadata": {},
   "outputs": [
    {
     "data": {
      "text/plain": [
       "(124, 2)"
      ]
     },
     "execution_count": 363,
     "metadata": {},
     "output_type": "execute_result"
    }
   ],
   "source": [
    "df_cat.shape"
   ]
  },
  {
   "cell_type": "code",
   "execution_count": 364,
   "metadata": {},
   "outputs": [
    {
     "name": "stdout",
     "output_type": "stream",
     "text": [
      "<class 'pandas.core.frame.DataFrame'>\n",
      "RangeIndex: 124 entries, 0 to 123\n",
      "Data columns (total 2 columns):\n",
      " #   Column       Non-Null Count  Dtype \n",
      "---  ------       --------------  ----- \n",
      " 0   business_id  124 non-null    object\n",
      " 1   categories   124 non-null    object\n",
      "dtypes: object(2)\n",
      "memory usage: 2.1+ KB\n"
     ]
    }
   ],
   "source": [
    "df_cat.info()"
   ]
  },
  {
   "cell_type": "code",
   "execution_count": 365,
   "metadata": {},
   "outputs": [
    {
     "data": {
      "text/plain": [
       "business_id    50\n",
       "categories     44\n",
       "dtype: int64"
      ]
     },
     "execution_count": 365,
     "metadata": {},
     "output_type": "execute_result"
    }
   ],
   "source": [
    "df_cat.nunique()\n"
   ]
  },
  {
   "cell_type": "code",
   "execution_count": 366,
   "metadata": {},
   "outputs": [
    {
     "data": {
      "text/plain": [
       "business_id    0\n",
       "categories     0\n",
       "dtype: int64"
      ]
     },
     "execution_count": 366,
     "metadata": {},
     "output_type": "execute_result"
    }
   ],
   "source": [
    "df_cat.isnull().sum()\n"
   ]
  },
  {
   "cell_type": "code",
   "execution_count": 367,
   "metadata": {},
   "outputs": [
    {
     "data": {
      "text/plain": [
       "'\\n(10 points) Audit validity/ accuracy\\n(10 points) Audit completeness\\n(10 points) Audit consistency/uniformity \\ndf_b -->\\n1. We get this data dirctly from yelp fusion API, We set the parameters: location - Boston and radius - 4000m, it return the first 50 results\\nwhich is the limit per request.\\n2. We create dataframe and check for null values, there are no null values so we continue are analysis\\n3. We check for duplicate values and find no duplicate values so we proceed to data insertion\\n\\ndf_cat -->\\n1. We create this table since we want to normalize our database so we need to have atomicity in our database. We pass the business_id and \\nloop through each category to normalize the databse.\\n2. We create dataframe and check for null values, there are no null values so we continue are analysis\\n3. We check for duplicate values and find no duplicate values so we proceed to data insertion\\n\\ndf_review -->\\n1. We get review information by passing the business_ids collected from response of business in distance, The fusion API limits the \\nnumber of reviews to 3 per business so we get a total of 150 unique rows\\n2. We create dataframe and check for null values, there are no null values so we continue are analysis\\n3. We check for duplicate values and find no duplicate values so we proceed to data insertion\\n\\ndf_user --> \\n1. User information is not available in the yelp fusion API so we use web scraping tool to pass all the collected user_ids from\\nreviews posted on each business.\\n2. The yelping_since date available on the web profile has no date so we take it as the 1st and convert it into proper datetime format\\n3. The avg_stars are not available in on the web profile, so we approximate this information by taking the average of available reviews\\n on the profile\\n4. We create dataframe and check for null values, there are no null values so we continue are analysis\\n5. We check for duplicate values and find there are 142/150 unique rows, so we drop the duplicate rows and proceed to insertion\\n\\n'"
      ]
     },
     "execution_count": 367,
     "metadata": {},
     "output_type": "execute_result"
    }
   ],
   "source": [
    "\"\"\"\n",
    "(10 points) Audit validity/ accuracy\n",
    "(10 points) Audit completeness\n",
    "(10 points) Audit consistency/uniformity \n",
    "df_b -->\n",
    "1. We get this data dirctly from yelp fusion API, We set the parameters: location - Boston and radius - 4000m, it return the first 50 results\n",
    "which is the limit per request.\n",
    "2. We create dataframe and check for null values, there are no null values so we continue are analysis\n",
    "3. We check for duplicate values and find no duplicate values so we proceed to data insertion\n",
    "\n",
    "df_cat -->\n",
    "1. We create this table since we want to normalize our database so we need to have atomicity in our database. We pass the business_id and \n",
    "loop through each category to normalize the databse.\n",
    "2. We create dataframe and check for null values, there are no null values so we continue are analysis\n",
    "3. We check for duplicate values and find no duplicate values so we proceed to data insertion\n",
    "\n",
    "df_review -->\n",
    "1. We get review information by passing the business_ids collected from response of business in distance, The fusion API limits the \n",
    "number of reviews to 3 per business so we get a total of 150 unique rows\n",
    "2. We create dataframe and check for null values, there are no null values so we continue are analysis\n",
    "3. We check for duplicate values and find no duplicate values so we proceed to data insertion\n",
    "\n",
    "df_user --> \n",
    "1. User information is not available in the yelp fusion API so we use web scraping tool to pass all the collected user_ids from\n",
    "reviews posted on each business.\n",
    "2. The yelping_since date available on the web profile has no date so we take it as the 1st and convert it into proper datetime format\n",
    "3. The avg_stars are not available in on the web profile, so we approximate this information by taking the average of available reviews\n",
    " on the profile\n",
    "4. We create dataframe and check for null values, there are no null values so we continue are analysis\n",
    "5. We check for duplicate values and find there are 142/150 unique rows, so we drop the duplicate rows and proceed to insertion\n",
    "\n",
    "\"\"\""
   ]
  },
  {
   "cell_type": "code",
   "execution_count": 368,
   "metadata": {},
   "outputs": [
    {
     "data": {
      "image/png": "[encoded data removed]",
      "text/plain": [
       "<Figure size 640x480 with 1 Axes>"
      ]
     },
     "metadata": {},
     "output_type": "display_data"
    }
   ],
   "source": [
    "# Relationship Analysis\n",
    "glue = df_b[[\"stars\",\"postal_code\",\"review_count\"]].copy()\n",
    "c = glue.groupby(\"postal_code\",as_index=False).agg({'stars':'mean','review_count':'sum'})\n",
    "\n",
    "# Create bars\n",
    "plt.bar(c['postal_code'], c['review_count'])\n",
    "\n",
    "# Show graphic\n",
    "plt.show()\n"
   ]
  },
  {
   "cell_type": "code",
   "execution_count": 369,
   "metadata": {},
   "outputs": [
    {
     "data": {
      "image/png": "[encoded data removed]",
      "text/plain": [
       "<Figure size 640x480 with 1 Axes>"
      ]
     },
     "metadata": {},
     "output_type": "display_data"
    }
   ],
   "source": [
    "# Create bars\n",
    "plt.bar(c['postal_code'], c['stars'])\n",
    "plt.ylim([3,6])\n",
    "\n",
    "\n",
    "# Show graphic\n",
    "plt.show()"
   ]
  },
  {
   "cell_type": "code",
   "execution_count": 370,
   "metadata": {},
   "outputs": [
    {
     "data": {
      "text/plain": [
       "<AxesSubplot: xlabel='stars', ylabel='review_count'>"
      ]
     },
     "execution_count": 370,
     "metadata": {},
     "output_type": "execute_result"
    },
    {
     "data": {
      "image/png": "[encoded data removed]",
      "text/plain": [
       "<Figure size 640x480 with 1 Axes>"
      ]
     },
     "metadata": {},
     "output_type": "display_data"
    }
   ],
   "source": [
    "sns.regplot(y=glue[\"review_count\"], x=glue[\"stars\"])"
   ]
  },
  {
   "cell_type": "code",
   "execution_count": 371,
   "metadata": {},
   "outputs": [
    {
     "name": "stdout",
     "output_type": "stream",
     "text": [
      "<mysql.connector.connection_cext.CMySQLConnection object at 0x16d8ca280>\n",
      "engine is valid\n"
     ]
    }
   ],
   "source": [
    "#connect to mysql servel\n",
    "mydb = mysql.connector.connect(\n",
    "  host=\"localhost\",\n",
    "  user=\"root\",\n",
    "  password=\"Parvashah@123\",\n",
    "  database=\"yelpdb\"\n",
    ")\n",
    "\n",
    "print(mydb)\n",
    "\n",
    "mycursor = mydb.cursor()\n",
    "\n",
    "# Insert the dataframe in to sql database\n",
    "\n",
    "constring = 'mysql+mysqlconnector://root:%s@localhost:3306/yelpdb' % quote('Parvashah@123')\n",
    "dbEngine = sqlalchemy.create_engine(constring, connect_args={'connect_timeout': 10}, echo=False)\n",
    "try:\n",
    "    with dbEngine.connect() as con:\n",
    "        con.execute(\"SELECT 1\")\n",
    "    print('engine is valid')\n",
    "except Exception as e:\n",
    "    print(f'Engine invalid: {str(e)}')"
   ]
  },
  {
   "cell_type": "code",
   "execution_count": 372,
   "metadata": {},
   "outputs": [],
   "source": [
    "# Insert data into business table from json file\n",
    "df_b.to_sql(con=dbEngine, schema=\"yelpdb\", name=\"temporary_table\", if_exists=\"replace\", index=False, chunksize=1000)\n",
    "with dbEngine.begin() as cnx:\n",
    "    insert_sql = 'INSERT IGNORE INTO business (SELECT * FROM temporary_table)'\n",
    "    cnx.execute(insert_sql)"
   ]
  },
  {
   "cell_type": "code",
   "execution_count": 373,
   "metadata": {},
   "outputs": [],
   "source": [
    "# Insert data into business table from json file\n",
    "df_user.to_sql(con=dbEngine, schema=\"yelpdb\", name=\"temporary_table\", if_exists=\"replace\", index=False, chunksize=1000)\n",
    "with dbEngine.begin() as cnx:\n",
    "    insert_sql = 'INSERT IGNORE INTO user (SELECT * FROM temporary_table)'\n",
    "    cnx.execute(insert_sql)\n"
   ]
  },
  {
   "cell_type": "code",
   "execution_count": 374,
   "metadata": {},
   "outputs": [],
   "source": [
    "# Insert data into business table from json file\n",
    "df_cat.to_sql(con=dbEngine, schema=\"yelpdb\", name=\"temporary_table\", if_exists=\"replace\", index=False, chunksize=1000)\n",
    "with dbEngine.begin() as cnx:\n",
    "    insert_sql = 'INSERT IGNORE INTO category (SELECT * FROM temporary_table)'\n",
    "    cnx.execute(insert_sql)"
   ]
  },
  {
   "cell_type": "code",
   "execution_count": 375,
   "metadata": {},
   "outputs": [],
   "source": [
    "# Insert data into review table from json file\n",
    "df_review.to_sql(con=dbEngine, schema=\"yelpdb\", name=\"temporary_table\", if_exists=\"replace\", index=False, chunksize=10000)\n",
    "with dbEngine.begin() as cnx:\n",
    "    insert_sql = 'INSERT IGNORE INTO review (SELECT * FROM temporary_table)'\n",
    "    cnx.execute(insert_sql)"
   ]
  }
 ],
 "metadata": {
  "kernelspec": {
   "display_name": "Python 3.9.6 64-bit",
   "language": "python",
   "name": "python3"
  },
  "language_info": {
   "codemirror_mode": {
    "name": "ipython",
    "version": 3
   },
   "file_extension": ".py",
   "mimetype": "text/x-python",
   "name": "python",
   "nbconvert_exporter": "python",
   "pygments_lexer": "ipython3",
   "version": "3.9.6"
  },
  "orig_nbformat": 4,
  "vscode": {
   "interpreter": {
    "hash": "31f2aee4e71d21fbe5cf8b01ff0e069b9275f58929596ceb00d14d90e3e16cd6"
   }
  }
 },
 "nbformat": 4,
 "nbformat_minor": 2
}
